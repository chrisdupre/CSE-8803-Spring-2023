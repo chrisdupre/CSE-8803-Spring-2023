{
 "cells": [
  {
   "cell_type": "code",
   "execution_count": 1,
   "id": "b88cfd83",
   "metadata": {},
   "outputs": [],
   "source": [
    "import Networks\n",
    "import numpy as np\n",
    "import NetGraphics\n",
    "import random as rand\n",
    "import scipy,pylab\n",
    "import matplotlib.pyplot as plt"
   ]
  },
  {
   "cell_type": "code",
   "execution_count": 2,
   "id": "99d19b05",
   "metadata": {},
   "outputs": [],
   "source": [
    "def MakeRingGraph(L,Z):\n",
    "    g = Networks.UndirectedGraph()\n",
    "    for i in range(L):\n",
    "        for j in range(int(np.ceil(-Z/2)),Z//2+1):\n",
    "            g.AddEdge(i,(i+j)%L)\n",
    "    return g\n",
    "\n",
    "def addRandomEdges(g,num_edges_tried):\n",
    "    allNodes = g.GetNodes()\n",
    "    for i in range(num_edges_tried):\n",
    "        node1 = rand.choice(allNodes)\n",
    "        node2 = rand.choice(allNodes)\n",
    "        g.AddEdge(node1,node2)\n",
    "    return g\n",
    "\n",
    "def MakeSmallWorldNetwork(L,Z,p):\n",
    "    g = MakeRingGraph(L,Z)\n",
    "    return addRandomEdges(g,int(L*Z*p/2))\n",
    "\n",
    "def SmallWorldSimple(L,Z,p):\n",
    "    g = MakeSmallWorldNetwork(L,Z,p)\n",
    "    NetGraphics.DisplayCircleGraph(g)\n",
    "    return\n",
    "\n",
    "def MakePathLengthsHistogram(L=100,Z=4,p=0.1):\n",
    "    g = MakeSmallWorldNetwork(L,Z,p)\n",
    "    lengths = g.FindAllPathLengths().values()\n",
    "    pylab.hist(lengths, bins=range(max(lengths))) \n",
    "    return\n",
    "\n",
    "def FindAverageAveragePathLength(L, Z, p, numTries):\n",
    "    data = [MakeSmallWorldNetwork(L,Z,p).FindAveragePathLength() for i in range(numTries)]\n",
    "    return np.average(data),np.std(data)\n",
    "\n",
    "def GetPathLength_vs_p(L,Z,num_tries,p_array):\n",
    "    data = [FindAverageAveragePathLength(L,Z,p,num_tries) for p in p_array]\n",
    "    return [[x[0] for x in data],[x[1] for x in data]]\n",
    "\n",
    "def PlotPathLength_vs_p(L,Z,num_tries = 2, p_array=10.**np.arange(-3., 0.001, 0.25)):\n",
    "    data = GetPathLength_vs_p(L,Z,num_tries,p_array)\n",
    "    plt.errorbar(p_array,data[0],yerr=data[1])\n",
    "    return"
   ]
  },
  {
   "cell_type": "code",
   "execution_count": 3,
   "id": "719a67c0",
   "metadata": {},
   "outputs": [
    {
     "data": {
      "image/png": "[encoded data removed]",
      "text/plain": [
       "<Figure size 432x288 with 1 Axes>"
      ]
     },
     "metadata": {
      "needs_background": "light"
     },
     "output_type": "display_data"
    }
   ],
   "source": [
    "MakePathLengthsHistogram(100,2,0.1)"
   ]
  },
  {
   "cell_type": "code",
   "execution_count": 4,
   "id": "c6d1dfa4",
   "metadata": {},
   "outputs": [
    {
     "data": {
      "image/png": "[encoded data removed]",
      "text/plain": [
       "<Figure size 432x288 with 1 Axes>"
      ]
     },
     "metadata": {
      "needs_background": "light"
     },
     "output_type": "display_data"
    }
   ],
   "source": [
    "PlotPathLength_vs_p(20,6)"
   ]
  },
  {
   "cell_type": "code",
   "execution_count": null,
   "id": "8ccfda70",
   "metadata": {},
   "outputs": [],
   "source": []
  }
 ],
 "metadata": {
  "kernelspec": {
   "display_name": "Python 3",
   "language": "python",
   "name": "python3"
  },
  "language_info": {
   "codemirror_mode": {
    "name": "ipython",
    "version": 3
   },
   "file_extension": ".py",
   "mimetype": "text/x-python",
   "name": "python",
   "nbconvert_exporter": "python",
   "pygments_lexer": "ipython3",
   "version": "3.8.8"
  }
 },
 "nbformat": 4,
 "nbformat_minor": 5
}
